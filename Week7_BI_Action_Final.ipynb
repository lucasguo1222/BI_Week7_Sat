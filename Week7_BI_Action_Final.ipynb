{
 "cells": [
  {
   "cell_type": "code",
   "execution_count": 1,
   "metadata": {
    "executionInfo": {
     "elapsed": 4818,
     "status": "ok",
     "timestamp": 1603012124201,
     "user": {
      "displayName": "Xiang Guo",
      "photoUrl": "",
      "userId": "05247754681499252594"
     },
     "user_tz": -480
    },
    "id": "JXOQpR5B9SNJ"
   },
   "outputs": [],
   "source": [
    "# 导入需要的包\n",
    "import torch\n",
    "from torch import nn, optim\n",
    "import torchvision\n",
    "import torch.nn.functional as F"
   ]
  },
  {
   "cell_type": "code",
   "execution_count": 2,
   "metadata": {
    "executionInfo": {
     "elapsed": 1099,
     "status": "ok",
     "timestamp": 1603012132853,
     "user": {
      "displayName": "Xiang Guo",
      "photoUrl": "",
      "userId": "05247754681499252594"
     },
     "user_tz": -480
    },
    "id": "2tWDAGqT9uZ6"
   },
   "outputs": [],
   "source": [
    "import torchvision.datasets as datasets\n",
    "import torchvision.transforms as transforms\n",
    "from torch.utils.data import DataLoader\n",
    "import matplotlib.pyplot as plt\n",
    "%matplotlib inline"
   ]
  },
  {
   "cell_type": "code",
   "execution_count": 3,
   "metadata": {
    "executionInfo": {
     "elapsed": 1118,
     "status": "ok",
     "timestamp": 1603012158185,
     "user": {
      "displayName": "Xiang Guo",
      "photoUrl": "",
      "userId": "05247754681499252594"
     },
     "user_tz": -480
    },
    "id": "Svy0OaMk9_t0"
   },
   "outputs": [],
   "source": [
    "from torch.autograd import Variable"
   ]
  },
  {
   "cell_type": "markdown",
   "metadata": {},
   "source": [
    "##### 这个脚本是在colab上面跑的，所以需要把数据挂载到云盘上"
   ]
  },
  {
   "cell_type": "code",
   "execution_count": 4,
   "metadata": {
    "colab": {
     "base_uri": "https://localhost:8080/",
     "height": 34
    },
    "executionInfo": {
     "elapsed": 34290,
     "status": "ok",
     "timestamp": 1603012240680,
     "user": {
      "displayName": "Xiang Guo",
      "photoUrl": "",
      "userId": "05247754681499252594"
     },
     "user_tz": -480
    },
    "id": "PpoINwnN-F5d",
    "outputId": "f2741c41-7328-4595-fe8d-5a2c04f591ff"
   },
   "outputs": [
    {
     "name": "stdout",
     "output_type": "stream",
     "text": [
      "Mounted at /content/drive\n"
     ]
    }
   ],
   "source": [
    "#将数据挂载的google云盘上面\n",
    "from google.colab import drive\n",
    "drive.mount('/content/drive')\n"
   ]
  },
  {
   "cell_type": "code",
   "execution_count": 5,
   "metadata": {
    "executionInfo": {
     "elapsed": 1114,
     "status": "ok",
     "timestamp": 1603012256677,
     "user": {
      "displayName": "Xiang Guo",
      "photoUrl": "",
      "userId": "05247754681499252594"
     },
     "user_tz": -480
    },
    "id": "OL2aAEKg-R8Q"
   },
   "outputs": [],
   "source": [
    "import os\n",
    "os.chdir(\"/content/drive/My Drive/Colab Notebooks/\")"
   ]
  },
  {
   "cell_type": "markdown",
   "metadata": {},
   "source": [
    "##### 将PIL Image或者numpy.ndarray转化为torch.FloatTensor，shape为(C,H,W)，并且做归一化处理"
   ]
  },
  {
   "cell_type": "markdown",
   "metadata": {},
   "source": [
    "##### 一开始的代码是直接使用transforms.ToTensor(),没有设计到对原始图像的像素填充然后裁剪。当时跑出来的成功率大概在80%，可以看一下上传的图片文件epoch_100，这张是当时的截图。后来在网上查到可以对图片做填充和随机裁剪来提高测试的精确度，所以做了以下的处理"
   ]
  },
  {
   "cell_type": "code",
   "execution_count": 7,
   "metadata": {
    "executionInfo": {
     "elapsed": 1202,
     "status": "ok",
     "timestamp": 1603012319407,
     "user": {
      "displayName": "Xiang Guo",
      "photoUrl": "",
      "userId": "05247754681499252594"
     },
     "user_tz": -480
    },
    "id": "5r0IJurE-pbd"
   },
   "outputs": [],
   "source": [
    "transform_train = transforms.Compose([\n",
    "        # 对原始32*32图像四周各填充4个0像素（40*40），然后随机裁剪成32*32\n",
    "        transforms.RandomCrop(32, padding=4),\n",
    "\n",
    "        # 按0.5的概率水平翻转图片\n",
    "        transforms.RandomHorizontalFlip(),\n",
    "\n",
    "        transforms.ToTensor(),\n",
    "        transforms.Normalize([0.5, 0.5, 0.5], [0.5, 0.5, 0.5])])\n",
    "\n",
    "transform_test = transforms.Compose([\n",
    "        transforms.ToTensor(),\n",
    "        transforms.Normalize([0.5, 0.5, 0.5], [0.5, 0.5, 0.5])])"
   ]
  },
  {
   "cell_type": "markdown",
   "metadata": {},
   "source": [
    "##### 加载CIFAR-10数据集，因为提前下载好并且上传到了google drive，所以download设置成了False，如果没有下载数据集，可以设为True"
   ]
  },
  {
   "cell_type": "code",
   "execution_count": 8,
   "metadata": {
    "executionInfo": {
     "elapsed": 10271,
     "status": "ok",
     "timestamp": 1603012332989,
     "user": {
      "displayName": "Xiang Guo",
      "photoUrl": "",
      "userId": "05247754681499252594"
     },
     "user_tz": -480
    },
    "id": "bqQoexrT-d8N"
   },
   "outputs": [],
   "source": [
    "# CIFAR-10 Dataset\n",
    "train_dataset = datasets.CIFAR10(root='./',\n",
    "                              train=True,\n",
    "                              transform=transform_train,\n",
    "                              download=False)"
   ]
  },
  {
   "cell_type": "code",
   "execution_count": 9,
   "metadata": {
    "executionInfo": {
     "elapsed": 2102,
     "status": "ok",
     "timestamp": 1603012352004,
     "user": {
      "displayName": "Xiang Guo",
      "photoUrl": "",
      "userId": "05247754681499252594"
     },
     "user_tz": -480
    },
    "id": "2_uSh0_X-nhM"
   },
   "outputs": [],
   "source": [
    "test_dataset = datasets.CIFAR10(root='./',\n",
    "                             train=False,\n",
    "                             transform=transform_test)"
   ]
  },
  {
   "cell_type": "markdown",
   "metadata": {},
   "source": [
    "##### 定义Resnet网络层"
   ]
  },
  {
   "cell_type": "code",
   "execution_count": 10,
   "metadata": {
    "executionInfo": {
     "elapsed": 1215,
     "status": "ok",
     "timestamp": 1603012385053,
     "user": {
      "displayName": "Xiang Guo",
      "photoUrl": "",
      "userId": "05247754681499252594"
     },
     "user_tz": -480
    },
    "id": "aOTAmP8--0-l"
   },
   "outputs": [],
   "source": [
    "# ResNet Module\n",
    "class ResNet(nn.Module):\n",
    "    def __init__(self, block, layers, num_classes=10):\n",
    "        super(ResNet, self).__init__()\n",
    "        self.in_channels = 16\n",
    "        self.conv = conv3x3(3, 16)\n",
    "        self.bn = nn.BatchNorm2d(16)\n",
    "        self.relu = nn.ReLU(inplace=True)\n",
    "        self.layer1 = self.make_layer(block, 16, layers[0])\n",
    "        self.layer2 = self.make_layer(block, 32, layers[0], 2)\n",
    "        self.layer3 = self.make_layer(block, 64, layers[1], 2)\n",
    "        self.avg_pool = nn.AvgPool2d(8)\n",
    "        self.fc = nn.Linear(64, num_classes)\n",
    "\n",
    "    def make_layer(self, block, out_channels, blocks, stride=1):\n",
    "        downsample = None\n",
    "        if (stride != 1) or (self.in_channels != out_channels):\n",
    "            downsample = nn.Sequential(\n",
    "                conv3x3(self.in_channels, out_channels, stride=stride),\n",
    "                nn.BatchNorm2d(out_channels))\n",
    "        layers = []\n",
    "        layers.append(block(self.in_channels, out_channels, stride, downsample))\n",
    "        self.in_channels = out_channels\n",
    "        for i in range(1, blocks):\n",
    "            layers.append(block(out_channels, out_channels))\n",
    "        return nn.Sequential(*layers)\n",
    "\n",
    "    def forward(self, x):\n",
    "        out = self.conv(x)\n",
    "        out = self.bn(out)\n",
    "        out = self.relu(out)\n",
    "        out = self.layer1(out)\n",
    "        out = self.layer2(out)\n",
    "        out = self.layer3(out)\n",
    "        out = self.avg_pool(out)\n",
    "        out = out.view(out.size(0), -1)\n",
    "        out = self.fc(out)\n",
    "        return out"
   ]
  },
  {
   "cell_type": "code",
   "execution_count": 11,
   "metadata": {
    "executionInfo": {
     "elapsed": 1140,
     "status": "ok",
     "timestamp": 1603012402355,
     "user": {
      "displayName": "Xiang Guo",
      "photoUrl": "",
      "userId": "05247754681499252594"
     },
     "user_tz": -480
    },
    "id": "Twp8L8A9-9Mh"
   },
   "outputs": [],
   "source": [
    "# 3x3 Convolution\n",
    "def conv3x3(in_channels, out_channels, stride=1):\n",
    "    return nn.Conv2d(in_channels, out_channels, kernel_size=3,\n",
    "                     stride=stride, padding=1, bias=False)"
   ]
  },
  {
   "cell_type": "markdown",
   "metadata": {},
   "source": [
    "##### 残差块\n",
    "##### in_channels, out_channels：残差块的输入、输出通道数\n",
    "##### 对第一层，in out channel都是64，其他层则不同\n",
    "##### 对每一层，如果in out channel不同， stride是1，其他层则为2"
   ]
  },
  {
   "cell_type": "code",
   "execution_count": 12,
   "metadata": {
    "executionInfo": {
     "elapsed": 1222,
     "status": "ok",
     "timestamp": 1603012420738,
     "user": {
      "displayName": "Xiang Guo",
      "photoUrl": "",
      "userId": "05247754681499252594"
     },
     "user_tz": -480
    },
    "id": "Souyf_f2_BgR"
   },
   "outputs": [],
   "source": [
    "# Residual Block\n",
    "class ResidualBlock(nn.Module):\n",
    "    def __init__(self, in_channels, out_channels, stride=1, downsample=None):\n",
    "        super(ResidualBlock, self).__init__()\n",
    "        self.conv1 = conv3x3(in_channels, out_channels, stride)\n",
    "        self.bn1 = nn.BatchNorm2d(out_channels)\n",
    "        self.relu = nn.ReLU(inplace=True)\n",
    "        self.conv2 = conv3x3(out_channels, out_channels)\n",
    "        self.bn2 = nn.BatchNorm2d(out_channels)\n",
    "        self.downsample = downsample\n",
    "\n",
    "    def forward(self, x):\n",
    "        residual = x\n",
    "        out = self.conv1(x)\n",
    "        out = self.bn1(out)\n",
    "        out = self.relu(out)\n",
    "        out = self.conv2(out)\n",
    "        out = self.bn2(out)\n",
    "        if self.downsample:\n",
    "            residual = self.downsample(x)\n",
    "        out += residual\n",
    "        out = self.relu(out)\n",
    "        return out"
   ]
  },
  {
   "cell_type": "markdown",
   "metadata": {},
   "source": [
    "##### 使用DataLoader进行分批"
   ]
  },
  {
   "cell_type": "code",
   "execution_count": 13,
   "metadata": {
    "executionInfo": {
     "elapsed": 1249,
     "status": "ok",
     "timestamp": 1603012442242,
     "user": {
      "displayName": "Xiang Guo",
      "photoUrl": "",
      "userId": "05247754681499252594"
     },
     "user_tz": -480
    },
    "id": "-dSt1qPm_F5d"
   },
   "outputs": [],
   "source": [
    "# Data Loader (Input Pipeline)\n",
    "train_loader = torch.utils.data.DataLoader(dataset=train_dataset,\n",
    "                                           batch_size=100,\n",
    "                                           shuffle=True)\n",
    "\n",
    "test_loader = torch.utils.data.DataLoader(dataset=test_dataset,\n",
    "                                          batch_size=100,\n",
    "                                          shuffle=True)"
   ]
  },
  {
   "cell_type": "markdown",
   "metadata": {},
   "source": [
    "##### 创建一个resnet网络的对象"
   ]
  },
  {
   "cell_type": "code",
   "execution_count": 14,
   "metadata": {
    "executionInfo": {
     "elapsed": 1177,
     "status": "ok",
     "timestamp": 1603012465468,
     "user": {
      "displayName": "Xiang Guo",
      "photoUrl": "",
      "userId": "05247754681499252594"
     },
     "user_tz": -480
    },
    "id": "rcEsPsuf_LN8"
   },
   "outputs": [],
   "source": [
    "resnet = ResNet(ResidualBlock, [2, 2, 2, 2])"
   ]
  },
  {
   "cell_type": "markdown",
   "metadata": {},
   "source": [
    "###### 损失函数:这里用交叉熵\n",
    "##### 优化器 这里用SGD"
   ]
  },
  {
   "cell_type": "code",
   "execution_count": 15,
   "metadata": {
    "executionInfo": {
     "elapsed": 1212,
     "status": "ok",
     "timestamp": 1603012480947,
     "user": {
      "displayName": "Xiang Guo",
      "photoUrl": "",
      "userId": "05247754681499252594"
     },
     "user_tz": -480
    },
    "id": "A8ueVAl9_Q54"
   },
   "outputs": [],
   "source": [
    "# Loss and Optimizer\n",
    "criterion = nn.CrossEntropyLoss()\n",
    "lr = 0.001\n",
    "optimizer = torch.optim.Adam(resnet.parameters(), lr=lr)"
   ]
  },
  {
   "cell_type": "markdown",
   "metadata": {},
   "source": [
    "##### 创建device使得后续的代码能放到这个device上面执行，如果GPU可用的话会使用GPU。"
   ]
  },
  {
   "cell_type": "code",
   "execution_count": 16,
   "metadata": {
    "colab": {
     "base_uri": "https://localhost:8080/",
     "height": 1000
    },
    "executionInfo": {
     "elapsed": 9113,
     "status": "ok",
     "timestamp": 1603012499618,
     "user": {
      "displayName": "Xiang Guo",
      "photoUrl": "",
      "userId": "05247754681499252594"
     },
     "user_tz": -480
    },
    "id": "hns-rH0p_UrR",
    "outputId": "2525cbf4-65ae-4583-a48b-56a7d858bdbd"
   },
   "outputs": [
    {
     "data": {
      "text/plain": [
       "ResNet(\n",
       "  (conv): Conv2d(3, 16, kernel_size=(3, 3), stride=(1, 1), padding=(1, 1), bias=False)\n",
       "  (bn): BatchNorm2d(16, eps=1e-05, momentum=0.1, affine=True, track_running_stats=True)\n",
       "  (relu): ReLU(inplace=True)\n",
       "  (layer1): Sequential(\n",
       "    (0): ResidualBlock(\n",
       "      (conv1): Conv2d(16, 16, kernel_size=(3, 3), stride=(1, 1), padding=(1, 1), bias=False)\n",
       "      (bn1): BatchNorm2d(16, eps=1e-05, momentum=0.1, affine=True, track_running_stats=True)\n",
       "      (relu): ReLU(inplace=True)\n",
       "      (conv2): Conv2d(16, 16, kernel_size=(3, 3), stride=(1, 1), padding=(1, 1), bias=False)\n",
       "      (bn2): BatchNorm2d(16, eps=1e-05, momentum=0.1, affine=True, track_running_stats=True)\n",
       "    )\n",
       "    (1): ResidualBlock(\n",
       "      (conv1): Conv2d(16, 16, kernel_size=(3, 3), stride=(1, 1), padding=(1, 1), bias=False)\n",
       "      (bn1): BatchNorm2d(16, eps=1e-05, momentum=0.1, affine=True, track_running_stats=True)\n",
       "      (relu): ReLU(inplace=True)\n",
       "      (conv2): Conv2d(16, 16, kernel_size=(3, 3), stride=(1, 1), padding=(1, 1), bias=False)\n",
       "      (bn2): BatchNorm2d(16, eps=1e-05, momentum=0.1, affine=True, track_running_stats=True)\n",
       "    )\n",
       "  )\n",
       "  (layer2): Sequential(\n",
       "    (0): ResidualBlock(\n",
       "      (conv1): Conv2d(16, 32, kernel_size=(3, 3), stride=(2, 2), padding=(1, 1), bias=False)\n",
       "      (bn1): BatchNorm2d(32, eps=1e-05, momentum=0.1, affine=True, track_running_stats=True)\n",
       "      (relu): ReLU(inplace=True)\n",
       "      (conv2): Conv2d(32, 32, kernel_size=(3, 3), stride=(1, 1), padding=(1, 1), bias=False)\n",
       "      (bn2): BatchNorm2d(32, eps=1e-05, momentum=0.1, affine=True, track_running_stats=True)\n",
       "      (downsample): Sequential(\n",
       "        (0): Conv2d(16, 32, kernel_size=(3, 3), stride=(2, 2), padding=(1, 1), bias=False)\n",
       "        (1): BatchNorm2d(32, eps=1e-05, momentum=0.1, affine=True, track_running_stats=True)\n",
       "      )\n",
       "    )\n",
       "    (1): ResidualBlock(\n",
       "      (conv1): Conv2d(32, 32, kernel_size=(3, 3), stride=(1, 1), padding=(1, 1), bias=False)\n",
       "      (bn1): BatchNorm2d(32, eps=1e-05, momentum=0.1, affine=True, track_running_stats=True)\n",
       "      (relu): ReLU(inplace=True)\n",
       "      (conv2): Conv2d(32, 32, kernel_size=(3, 3), stride=(1, 1), padding=(1, 1), bias=False)\n",
       "      (bn2): BatchNorm2d(32, eps=1e-05, momentum=0.1, affine=True, track_running_stats=True)\n",
       "    )\n",
       "  )\n",
       "  (layer3): Sequential(\n",
       "    (0): ResidualBlock(\n",
       "      (conv1): Conv2d(32, 64, kernel_size=(3, 3), stride=(2, 2), padding=(1, 1), bias=False)\n",
       "      (bn1): BatchNorm2d(64, eps=1e-05, momentum=0.1, affine=True, track_running_stats=True)\n",
       "      (relu): ReLU(inplace=True)\n",
       "      (conv2): Conv2d(64, 64, kernel_size=(3, 3), stride=(1, 1), padding=(1, 1), bias=False)\n",
       "      (bn2): BatchNorm2d(64, eps=1e-05, momentum=0.1, affine=True, track_running_stats=True)\n",
       "      (downsample): Sequential(\n",
       "        (0): Conv2d(32, 64, kernel_size=(3, 3), stride=(2, 2), padding=(1, 1), bias=False)\n",
       "        (1): BatchNorm2d(64, eps=1e-05, momentum=0.1, affine=True, track_running_stats=True)\n",
       "      )\n",
       "    )\n",
       "    (1): ResidualBlock(\n",
       "      (conv1): Conv2d(64, 64, kernel_size=(3, 3), stride=(1, 1), padding=(1, 1), bias=False)\n",
       "      (bn1): BatchNorm2d(64, eps=1e-05, momentum=0.1, affine=True, track_running_stats=True)\n",
       "      (relu): ReLU(inplace=True)\n",
       "      (conv2): Conv2d(64, 64, kernel_size=(3, 3), stride=(1, 1), padding=(1, 1), bias=False)\n",
       "      (bn2): BatchNorm2d(64, eps=1e-05, momentum=0.1, affine=True, track_running_stats=True)\n",
       "    )\n",
       "  )\n",
       "  (avg_pool): AvgPool2d(kernel_size=8, stride=8, padding=0)\n",
       "  (fc): Linear(in_features=64, out_features=10, bias=True)\n",
       ")"
      ]
     },
     "execution_count": 16,
     "metadata": {
      "tags": []
     },
     "output_type": "execute_result"
    }
   ],
   "source": [
    "#device : GPU or CPU\n",
    "device = torch.device(\"cuda:0\" if torch.cuda.is_available() else \"cpu\")\n",
    "resnet.to(device)"
   ]
  },
  {
   "cell_type": "markdown",
   "metadata": {},
   "source": [
    "##### 使用训练集对模型进行训练，最早试过10次迭代，准确率为78%，一般在150次迭代左右会非常接近在目前这些参数设置下模型的最高准确率"
   ]
  },
  {
   "cell_type": "code",
   "execution_count": 17,
   "metadata": {
    "colab": {
     "base_uri": "https://localhost:8080/",
     "height": 1000
    },
    "executionInfo": {
     "elapsed": 4358929,
     "status": "ok",
     "timestamp": 1603016886701,
     "user": {
      "displayName": "Xiang Guo",
      "photoUrl": "",
      "userId": "05247754681499252594"
     },
     "user_tz": -480
    },
    "id": "VunqD-YZ_XTj",
    "outputId": "d7ddb048-4702-4de4-d5e2-3f538cb6bcb3"
   },
   "outputs": [
    {
     "name": "stdout",
     "output_type": "stream",
     "text": [
      "epoch1 loss:1.0124\n",
      "epoch2 loss:0.8544\n",
      "epoch3 loss:0.8355\n",
      "epoch4 loss:0.5197\n",
      "epoch5 loss:0.8224\n",
      "epoch6 loss:0.6326\n",
      "epoch7 loss:0.6122\n",
      "epoch8 loss:0.5970\n",
      "epoch9 loss:0.4054\n",
      "epoch10 loss:0.4780\n",
      "epoch11 loss:0.4204\n",
      "epoch12 loss:0.3513\n",
      "epoch13 loss:0.4626\n",
      "epoch14 loss:0.3662\n",
      "epoch15 loss:0.4924\n",
      "epoch16 loss:0.5615\n",
      "epoch17 loss:0.4429\n",
      "epoch18 loss:0.3515\n",
      "epoch19 loss:0.4305\n",
      "epoch20 loss:0.2862\n",
      "epoch21 loss:0.1654\n",
      "epoch22 loss:0.2306\n",
      "epoch23 loss:0.3554\n",
      "epoch24 loss:0.4070\n",
      "epoch25 loss:0.2892\n",
      "epoch26 loss:0.2423\n",
      "epoch27 loss:0.2454\n",
      "epoch28 loss:0.2665\n",
      "epoch29 loss:0.1581\n",
      "epoch30 loss:0.0998\n",
      "epoch31 loss:0.2675\n",
      "epoch32 loss:0.1852\n",
      "epoch33 loss:0.2174\n",
      "epoch34 loss:0.2671\n",
      "epoch35 loss:0.2217\n",
      "epoch36 loss:0.1515\n",
      "epoch37 loss:0.1880\n",
      "epoch38 loss:0.1888\n",
      "epoch39 loss:0.2499\n",
      "epoch40 loss:0.1178\n",
      "epoch41 loss:0.2110\n",
      "epoch42 loss:0.2294\n",
      "epoch43 loss:0.2334\n",
      "epoch44 loss:0.1310\n",
      "epoch45 loss:0.1339\n",
      "epoch46 loss:0.2316\n",
      "epoch47 loss:0.0925\n",
      "epoch48 loss:0.0965\n",
      "epoch49 loss:0.1088\n",
      "epoch50 loss:0.2162\n",
      "epoch51 loss:0.3078\n",
      "epoch52 loss:0.2436\n",
      "epoch53 loss:0.1072\n",
      "epoch54 loss:0.1640\n",
      "epoch55 loss:0.1115\n",
      "epoch56 loss:0.1487\n",
      "epoch57 loss:0.1191\n",
      "epoch58 loss:0.1053\n",
      "epoch59 loss:0.1353\n",
      "epoch60 loss:0.0715\n",
      "epoch61 loss:0.1536\n",
      "epoch62 loss:0.1733\n",
      "epoch63 loss:0.1369\n",
      "epoch64 loss:0.0649\n",
      "epoch65 loss:0.1241\n",
      "epoch66 loss:0.0870\n",
      "epoch67 loss:0.1277\n",
      "epoch68 loss:0.2087\n",
      "epoch69 loss:0.1633\n",
      "epoch70 loss:0.1266\n",
      "epoch71 loss:0.0986\n",
      "epoch72 loss:0.1293\n",
      "epoch73 loss:0.0860\n",
      "epoch74 loss:0.1677\n",
      "epoch75 loss:0.0893\n",
      "epoch76 loss:0.1168\n",
      "epoch77 loss:0.1387\n",
      "epoch78 loss:0.1426\n",
      "epoch79 loss:0.1117\n",
      "epoch80 loss:0.1796\n",
      "epoch81 loss:0.1223\n",
      "epoch82 loss:0.1846\n",
      "epoch83 loss:0.2168\n",
      "epoch84 loss:0.1033\n",
      "epoch85 loss:0.1144\n",
      "epoch86 loss:0.1039\n",
      "epoch87 loss:0.2015\n",
      "epoch88 loss:0.0980\n",
      "epoch89 loss:0.2016\n",
      "epoch90 loss:0.1028\n",
      "epoch91 loss:0.1145\n",
      "epoch92 loss:0.1523\n",
      "epoch93 loss:0.0984\n",
      "epoch94 loss:0.1190\n",
      "epoch95 loss:0.0899\n",
      "epoch96 loss:0.0733\n",
      "epoch97 loss:0.0870\n",
      "epoch98 loss:0.1214\n",
      "epoch99 loss:0.1394\n",
      "epoch100 loss:0.1778\n",
      "epoch101 loss:0.1855\n",
      "epoch102 loss:0.1298\n",
      "epoch103 loss:0.1463\n",
      "epoch104 loss:0.1223\n",
      "epoch105 loss:0.0904\n",
      "epoch106 loss:0.0996\n",
      "epoch107 loss:0.0935\n",
      "epoch108 loss:0.1729\n",
      "epoch109 loss:0.1338\n",
      "epoch110 loss:0.0358\n",
      "epoch111 loss:0.1466\n",
      "epoch112 loss:0.0895\n",
      "epoch113 loss:0.1149\n",
      "epoch114 loss:0.1932\n",
      "epoch115 loss:0.1282\n",
      "epoch116 loss:0.1825\n",
      "epoch117 loss:0.0610\n",
      "epoch118 loss:0.1403\n",
      "epoch119 loss:0.1213\n",
      "epoch120 loss:0.1257\n",
      "epoch121 loss:0.1912\n",
      "epoch122 loss:0.0934\n",
      "epoch123 loss:0.0767\n",
      "epoch124 loss:0.1137\n",
      "epoch125 loss:0.1340\n",
      "epoch126 loss:0.1215\n",
      "epoch127 loss:0.3313\n",
      "epoch128 loss:0.1761\n",
      "epoch129 loss:0.1115\n",
      "epoch130 loss:0.1537\n",
      "epoch131 loss:0.0908\n",
      "epoch132 loss:0.1057\n",
      "epoch133 loss:0.1814\n",
      "epoch134 loss:0.2032\n",
      "epoch135 loss:0.2095\n",
      "epoch136 loss:0.1407\n",
      "epoch137 loss:0.0956\n",
      "epoch138 loss:0.1007\n",
      "epoch139 loss:0.1441\n",
      "epoch140 loss:0.1612\n",
      "epoch141 loss:0.1372\n",
      "epoch142 loss:0.1263\n",
      "epoch143 loss:0.1211\n",
      "epoch144 loss:0.1063\n",
      "epoch145 loss:0.0752\n",
      "epoch146 loss:0.1095\n",
      "epoch147 loss:0.1434\n",
      "epoch148 loss:0.1826\n",
      "epoch149 loss:0.0855\n",
      "epoch150 loss:0.1540\n"
     ]
    }
   ],
   "source": [
    "# Training\n",
    "for epoch in range(150):\n",
    "    for i, (images, labels) in enumerate(train_loader):\n",
    "        images = Variable(images.to(device))\n",
    "        labels = Variable(labels.to(device))\n",
    "\n",
    "        # Forward + Backward + Optimize\n",
    "        optimizer.zero_grad()\n",
    "        outputs = resnet(images)\n",
    "        loss = criterion(outputs, labels)\n",
    "        # 清空上一轮梯度\n",
    "        optimizer.zero_grad()\n",
    "        loss.backward()\n",
    "        optimizer.step()\n",
    "    \n",
    "    print('epoch{} loss:{:.4f}'.format(epoch+1, loss.item()))\n",
    "    \n",
    "    # Decaying Learning Rate\n",
    "    if (epoch + 1) % 20 == 0:\n",
    "        lr /= 3\n",
    "        optimizer = torch.optim.Adam(resnet.parameters(), lr=lr)"
   ]
  },
  {
   "cell_type": "markdown",
   "metadata": {},
   "source": [
    "##### 保存训练模型，实际上没有成功，在google drive下没有找到相应的模型文件，其他本地跑的代码可以生成pt文件。"
   ]
  },
  {
   "cell_type": "code",
   "execution_count": 18,
   "metadata": {
    "executionInfo": {
     "elapsed": 1312,
     "status": "ok",
     "timestamp": 1603016989051,
     "user": {
      "displayName": "Xiang Guo",
      "photoUrl": "",
      "userId": "05247754681499252594"
     },
     "user_tz": -480
    },
    "id": "Mbn-h9Xx_gZv"
   },
   "outputs": [],
   "source": [
    "torch.save(resnet, 'cifar_resnet.pt')\n",
    "resnet2 = torch.load('cifar_resnet.pt')"
   ]
  },
  {
   "cell_type": "code",
   "execution_count": 19,
   "metadata": {
    "executionInfo": {
     "elapsed": 1106,
     "status": "ok",
     "timestamp": 1603017018455,
     "user": {
      "displayName": "Xiang Guo",
      "photoUrl": "",
      "userId": "05247754681499252594"
     },
     "user_tz": -480
    },
    "id": "wgl6bZxKQhQI"
   },
   "outputs": [],
   "source": [
    "# 测试\n",
    "resnet.eval()\n",
    "correct = 0\n",
    "total = 0"
   ]
  },
  {
   "cell_type": "code",
   "execution_count": 20,
   "metadata": {
    "executionInfo": {
     "elapsed": 4994,
     "status": "ok",
     "timestamp": 1603017033144,
     "user": {
      "displayName": "Xiang Guo",
      "photoUrl": "",
      "userId": "05247754681499252594"
     },
     "user_tz": -480
    },
    "id": "d-IfKaILQoe7"
   },
   "outputs": [],
   "source": [
    "for data in test_loader:\n",
    "    images, labels = data\n",
    "    images, labels = images.to(device), labels.to(device)\n",
    "    # 前向传播\n",
    "    out = resnet(images)\n",
    "    _, predicted = torch.max(out.data, 1)\n",
    "    total += labels.size(0)\n",
    "    correct += (predicted == labels).sum().item()"
   ]
  },
  {
   "cell_type": "code",
   "execution_count": 21,
   "metadata": {
    "colab": {
     "base_uri": "https://localhost:8080/",
     "height": 34
    },
    "executionInfo": {
     "elapsed": 1091,
     "status": "ok",
     "timestamp": 1603017042268,
     "user": {
      "displayName": "Xiang Guo",
      "photoUrl": "",
      "userId": "05247754681499252594"
     },
     "user_tz": -480
    },
    "id": "_uXiA-TvQrID",
    "outputId": "9d36e28a-a4f6-4c2a-9488-8d6c0df2f609"
   },
   "outputs": [
    {
     "name": "stdout",
     "output_type": "stream",
     "text": [
      "10000测试图像 准确率:88.6400%\n"
     ]
    }
   ],
   "source": [
    "#输出识别准确率\n",
    "print('10000测试图像 准确率:{:.4f}%'.format(100 * correct / total)) \n"
   ]
  },
  {
   "cell_type": "code",
   "execution_count": null,
   "metadata": {
    "id": "A1hu5ShQQuTh"
   },
   "outputs": [],
   "source": []
  }
 ],
 "metadata": {
  "accelerator": "GPU",
  "colab": {
   "authorship_tag": "ABX9TyOmY//4NcO98NqCt4I5yNlm",
   "name": "Week7_BI_Action_Final.ipynb",
   "provenance": []
  },
  "kernelspec": {
   "display_name": "Python 3",
   "language": "python",
   "name": "python3"
  },
  "language_info": {
   "codemirror_mode": {
    "name": "ipython",
    "version": 3
   },
   "file_extension": ".py",
   "mimetype": "text/x-python",
   "name": "python",
   "nbconvert_exporter": "python",
   "pygments_lexer": "ipython3",
   "version": "3.8.3"
  }
 },
 "nbformat": 4,
 "nbformat_minor": 1
}
